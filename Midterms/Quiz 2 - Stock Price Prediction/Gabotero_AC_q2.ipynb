{
 "cells": [
  {
   "cell_type": "code",
   "execution_count": 1,
   "id": "f4dc6f20",
   "metadata": {
    "scrolled": true
   },
   "outputs": [
    {
     "data": {
      "text/html": [
       "<div>\n",
       "<style scoped>\n",
       "    .dataframe tbody tr th:only-of-type {\n",
       "        vertical-align: middle;\n",
       "    }\n",
       "\n",
       "    .dataframe tbody tr th {\n",
       "        vertical-align: top;\n",
       "    }\n",
       "\n",
       "    .dataframe thead th {\n",
       "        text-align: right;\n",
       "    }\n",
       "</style>\n",
       "<table border=\"1\" class=\"dataframe\">\n",
       "  <thead>\n",
       "    <tr style=\"text-align: right;\">\n",
       "      <th></th>\n",
       "      <th>Date</th>\n",
       "      <th>Open</th>\n",
       "      <th>High</th>\n",
       "      <th>Low</th>\n",
       "      <th>Close</th>\n",
       "      <th>Adj Close</th>\n",
       "      <th>Volume</th>\n",
       "    </tr>\n",
       "  </thead>\n",
       "  <tbody>\n",
       "    <tr>\n",
       "      <th>0</th>\n",
       "      <td>2020-10-12</td>\n",
       "      <td>14.65</td>\n",
       "      <td>14.65</td>\n",
       "      <td>14.65</td>\n",
       "      <td>14.65</td>\n",
       "      <td>14.387809</td>\n",
       "      <td>0</td>\n",
       "    </tr>\n",
       "    <tr>\n",
       "      <th>1</th>\n",
       "      <td>2020-10-13</td>\n",
       "      <td>14.65</td>\n",
       "      <td>14.65</td>\n",
       "      <td>14.65</td>\n",
       "      <td>14.65</td>\n",
       "      <td>14.387809</td>\n",
       "      <td>0</td>\n",
       "    </tr>\n",
       "    <tr>\n",
       "      <th>2</th>\n",
       "      <td>2020-10-14</td>\n",
       "      <td>14.65</td>\n",
       "      <td>14.65</td>\n",
       "      <td>14.65</td>\n",
       "      <td>14.65</td>\n",
       "      <td>14.387809</td>\n",
       "      <td>0</td>\n",
       "    </tr>\n",
       "    <tr>\n",
       "      <th>3</th>\n",
       "      <td>2020-10-15</td>\n",
       "      <td>14.65</td>\n",
       "      <td>14.65</td>\n",
       "      <td>14.65</td>\n",
       "      <td>14.65</td>\n",
       "      <td>14.387809</td>\n",
       "      <td>0</td>\n",
       "    </tr>\n",
       "    <tr>\n",
       "      <th>4</th>\n",
       "      <td>2020-10-16</td>\n",
       "      <td>14.65</td>\n",
       "      <td>14.65</td>\n",
       "      <td>14.65</td>\n",
       "      <td>14.65</td>\n",
       "      <td>14.387809</td>\n",
       "      <td>100</td>\n",
       "    </tr>\n",
       "  </tbody>\n",
       "</table>\n",
       "</div>"
      ],
      "text/plain": [
       "        Date   Open   High    Low  Close  Adj Close  Volume\n",
       "0 2020-10-12  14.65  14.65  14.65  14.65  14.387809       0\n",
       "1 2020-10-13  14.65  14.65  14.65  14.65  14.387809       0\n",
       "2 2020-10-14  14.65  14.65  14.65  14.65  14.387809       0\n",
       "3 2020-10-15  14.65  14.65  14.65  14.65  14.387809       0\n",
       "4 2020-10-16  14.65  14.65  14.65  14.65  14.387809     100"
      ]
     },
     "execution_count": 1,
     "metadata": {},
     "output_type": "execute_result"
    }
   ],
   "source": [
    "#Clive Jake A. Gabotero\n",
    "#ECE41S1\n",
    "#COE 005\n",
    "\n",
    "import numpy as np\n",
    "import pandas as pd\n",
    "import matplotlib.pyplot as plt\n",
    "\n",
    "data = pd.read_csv('AYALY.csv', parse_dates = ['Date'])\n",
    "data.head()"
   ]
  },
  {
   "cell_type": "code",
   "execution_count": 2,
   "id": "817e7ee9",
   "metadata": {},
   "outputs": [
    {
     "data": {
      "text/html": [
       "<div>\n",
       "<style scoped>\n",
       "    .dataframe tbody tr th:only-of-type {\n",
       "        vertical-align: middle;\n",
       "    }\n",
       "\n",
       "    .dataframe tbody tr th {\n",
       "        vertical-align: top;\n",
       "    }\n",
       "\n",
       "    .dataframe thead th {\n",
       "        text-align: right;\n",
       "    }\n",
       "</style>\n",
       "<table border=\"1\" class=\"dataframe\">\n",
       "  <thead>\n",
       "    <tr style=\"text-align: right;\">\n",
       "      <th></th>\n",
       "      <th>Open</th>\n",
       "      <th>High</th>\n",
       "      <th>Low</th>\n",
       "      <th>Close</th>\n",
       "      <th>Adj Close</th>\n",
       "      <th>Volume</th>\n",
       "    </tr>\n",
       "  </thead>\n",
       "  <tbody>\n",
       "    <tr>\n",
       "      <th>count</th>\n",
       "      <td>503.000000</td>\n",
       "      <td>503.000000</td>\n",
       "      <td>503.000000</td>\n",
       "      <td>503.000000</td>\n",
       "      <td>503.000000</td>\n",
       "      <td>503.000000</td>\n",
       "    </tr>\n",
       "    <tr>\n",
       "      <th>mean</th>\n",
       "      <td>15.203081</td>\n",
       "      <td>15.207097</td>\n",
       "      <td>15.202863</td>\n",
       "      <td>15.205765</td>\n",
       "      <td>15.056566</td>\n",
       "      <td>162.624254</td>\n",
       "    </tr>\n",
       "    <tr>\n",
       "      <th>std</th>\n",
       "      <td>1.687930</td>\n",
       "      <td>1.687192</td>\n",
       "      <td>1.687903</td>\n",
       "      <td>1.686022</td>\n",
       "      <td>1.641646</td>\n",
       "      <td>1857.287432</td>\n",
       "    </tr>\n",
       "    <tr>\n",
       "      <th>min</th>\n",
       "      <td>10.760000</td>\n",
       "      <td>10.760000</td>\n",
       "      <td>10.760000</td>\n",
       "      <td>10.760000</td>\n",
       "      <td>10.699000</td>\n",
       "      <td>0.000000</td>\n",
       "    </tr>\n",
       "    <tr>\n",
       "      <th>25%</th>\n",
       "      <td>14.650000</td>\n",
       "      <td>14.650000</td>\n",
       "      <td>14.650000</td>\n",
       "      <td>14.650000</td>\n",
       "      <td>14.462601</td>\n",
       "      <td>0.000000</td>\n",
       "    </tr>\n",
       "    <tr>\n",
       "      <th>50%</th>\n",
       "      <td>15.410000</td>\n",
       "      <td>15.410000</td>\n",
       "      <td>15.410000</td>\n",
       "      <td>15.410000</td>\n",
       "      <td>15.193402</td>\n",
       "      <td>0.000000</td>\n",
       "    </tr>\n",
       "    <tr>\n",
       "      <th>75%</th>\n",
       "      <td>16.230000</td>\n",
       "      <td>16.230000</td>\n",
       "      <td>16.230000</td>\n",
       "      <td>16.230000</td>\n",
       "      <td>16.001877</td>\n",
       "      <td>0.000000</td>\n",
       "    </tr>\n",
       "    <tr>\n",
       "      <th>max</th>\n",
       "      <td>18.480000</td>\n",
       "      <td>18.480000</td>\n",
       "      <td>18.480000</td>\n",
       "      <td>18.480000</td>\n",
       "      <td>18.220251</td>\n",
       "      <td>39600.000000</td>\n",
       "    </tr>\n",
       "  </tbody>\n",
       "</table>\n",
       "</div>"
      ],
      "text/plain": [
       "             Open        High         Low       Close   Adj Close  \\\n",
       "count  503.000000  503.000000  503.000000  503.000000  503.000000   \n",
       "mean    15.203081   15.207097   15.202863   15.205765   15.056566   \n",
       "std      1.687930    1.687192    1.687903    1.686022    1.641646   \n",
       "min     10.760000   10.760000   10.760000   10.760000   10.699000   \n",
       "25%     14.650000   14.650000   14.650000   14.650000   14.462601   \n",
       "50%     15.410000   15.410000   15.410000   15.410000   15.193402   \n",
       "75%     16.230000   16.230000   16.230000   16.230000   16.001877   \n",
       "max     18.480000   18.480000   18.480000   18.480000   18.220251   \n",
       "\n",
       "             Volume  \n",
       "count    503.000000  \n",
       "mean     162.624254  \n",
       "std     1857.287432  \n",
       "min        0.000000  \n",
       "25%        0.000000  \n",
       "50%        0.000000  \n",
       "75%        0.000000  \n",
       "max    39600.000000  "
      ]
     },
     "execution_count": 2,
     "metadata": {},
     "output_type": "execute_result"
    }
   ],
   "source": [
    "data.describe()"
   ]
  },
  {
   "cell_type": "code",
   "execution_count": 4,
   "id": "902e36f0",
   "metadata": {},
   "outputs": [
    {
     "data": {
      "text/html": [
       "<div>\n",
       "<style scoped>\n",
       "    .dataframe tbody tr th:only-of-type {\n",
       "        vertical-align: middle;\n",
       "    }\n",
       "\n",
       "    .dataframe tbody tr th {\n",
       "        vertical-align: top;\n",
       "    }\n",
       "\n",
       "    .dataframe thead th {\n",
       "        text-align: right;\n",
       "    }\n",
       "</style>\n",
       "<table border=\"1\" class=\"dataframe\">\n",
       "  <thead>\n",
       "    <tr style=\"text-align: right;\">\n",
       "      <th></th>\n",
       "      <th>Date</th>\n",
       "      <th>Open</th>\n",
       "      <th>High</th>\n",
       "      <th>Low</th>\n",
       "      <th>Close</th>\n",
       "      <th>Adj Close</th>\n",
       "      <th>Volume</th>\n",
       "    </tr>\n",
       "  </thead>\n",
       "  <tbody>\n",
       "    <tr>\n",
       "      <th>498</th>\n",
       "      <td>2022-10-04</td>\n",
       "      <td>12.0</td>\n",
       "      <td>12.0</td>\n",
       "      <td>12.0</td>\n",
       "      <td>12.0</td>\n",
       "      <td>12.0</td>\n",
       "      <td>0</td>\n",
       "    </tr>\n",
       "    <tr>\n",
       "      <th>499</th>\n",
       "      <td>2022-10-05</td>\n",
       "      <td>12.0</td>\n",
       "      <td>12.0</td>\n",
       "      <td>12.0</td>\n",
       "      <td>12.0</td>\n",
       "      <td>12.0</td>\n",
       "      <td>0</td>\n",
       "    </tr>\n",
       "    <tr>\n",
       "      <th>500</th>\n",
       "      <td>2022-10-06</td>\n",
       "      <td>12.0</td>\n",
       "      <td>12.0</td>\n",
       "      <td>12.0</td>\n",
       "      <td>12.0</td>\n",
       "      <td>12.0</td>\n",
       "      <td>0</td>\n",
       "    </tr>\n",
       "    <tr>\n",
       "      <th>501</th>\n",
       "      <td>2022-10-07</td>\n",
       "      <td>12.0</td>\n",
       "      <td>12.0</td>\n",
       "      <td>12.0</td>\n",
       "      <td>12.0</td>\n",
       "      <td>12.0</td>\n",
       "      <td>0</td>\n",
       "    </tr>\n",
       "    <tr>\n",
       "      <th>502</th>\n",
       "      <td>2022-10-10</td>\n",
       "      <td>12.0</td>\n",
       "      <td>12.0</td>\n",
       "      <td>12.0</td>\n",
       "      <td>12.0</td>\n",
       "      <td>12.0</td>\n",
       "      <td>0</td>\n",
       "    </tr>\n",
       "  </tbody>\n",
       "</table>\n",
       "</div>"
      ],
      "text/plain": [
       "          Date  Open  High   Low  Close  Adj Close  Volume\n",
       "498 2022-10-04  12.0  12.0  12.0   12.0       12.0       0\n",
       "499 2022-10-05  12.0  12.0  12.0   12.0       12.0       0\n",
       "500 2022-10-06  12.0  12.0  12.0   12.0       12.0       0\n",
       "501 2022-10-07  12.0  12.0  12.0   12.0       12.0       0\n",
       "502 2022-10-10  12.0  12.0  12.0   12.0       12.0       0"
      ]
     },
     "execution_count": 4,
     "metadata": {},
     "output_type": "execute_result"
    }
   ],
   "source": [
    "data.tail()"
   ]
  },
  {
   "cell_type": "code",
   "execution_count": 5,
   "id": "0ffb575b",
   "metadata": {},
   "outputs": [
    {
     "data": {
      "text/plain": [
       "<AxesSubplot:>"
      ]
     },
     "execution_count": 5,
     "metadata": {},
     "output_type": "execute_result"
    },
    {
     "data": {
      "image/png": "[encoded data removed]",
      "text/plain": [
       "<Figure size 432x288 with 1 Axes>"
      ]
     },
     "metadata": {
      "needs_background": "light"
     },
     "output_type": "display_data"
    }
   ],
   "source": [
    "pri = data[['Adj Close']]\n",
    "pri.plot()"
   ]
  },
  {
   "cell_type": "code",
   "execution_count": 6,
   "id": "750302ac",
   "metadata": {},
   "outputs": [
    {
     "data": {
      "text/plain": [
       "array([[14.387809],\n",
       "       [14.387809],\n",
       "       [14.387809],\n",
       "       [14.387809],\n",
       "       [14.387809],\n",
       "       [14.387809],\n",
       "       [14.387809],\n",
       "       [14.387809],\n",
       "       [14.387809],\n",
       "       [15.419017],\n",
       "       [14.977071],\n",
       "       [14.977071],\n",
       "       [14.977071],\n",
       "       [14.977071],\n",
       "       [14.977071],\n",
       "       [14.977071],\n",
       "       [14.977071],\n",
       "       [14.977071],\n",
       "       [14.977071],\n",
       "       [14.977071],\n",
       "       [14.977071],\n",
       "       [14.977071],\n",
       "       [14.977071],\n",
       "       [14.977071],\n",
       "       [14.977071],\n",
       "       [14.977071],\n",
       "       [14.977071],\n",
       "       [14.977071],\n",
       "       [14.977071],\n",
       "       [14.977071],\n",
       "       [14.977071],\n",
       "       [14.977071],\n",
       "       [14.977071],\n",
       "       [15.664542],\n",
       "       [15.664542],\n",
       "       [15.664542],\n",
       "       [15.664542],\n",
       "       [15.664542],\n",
       "       [15.664542],\n",
       "       [15.664542],\n",
       "       [15.664542],\n",
       "       [15.664542],\n",
       "       [15.664542],\n",
       "       [18.129622],\n",
       "       [18.149263],\n",
       "       [18.149263],\n",
       "       [18.220251],\n",
       "       [17.500513],\n",
       "       [17.924469],\n",
       "       [17.924469],\n",
       "       [17.924469],\n",
       "       [17.924469],\n",
       "       [17.924469],\n",
       "       [17.618826],\n",
       "       [17.618826],\n",
       "       [17.618826],\n",
       "       [17.618826],\n",
       "       [17.618826],\n",
       "       [17.618826],\n",
       "       [17.618826],\n",
       "       [17.618826],\n",
       "       [17.618826],\n",
       "       [17.618826],\n",
       "       [17.618826],\n",
       "       [17.618826],\n",
       "       [17.618826],\n",
       "       [17.618826],\n",
       "       [17.618826],\n",
       "       [17.618826],\n",
       "       [17.618826],\n",
       "       [17.618826],\n",
       "       [17.618826],\n",
       "       [17.618826],\n",
       "       [17.618826],\n",
       "       [15.439888],\n",
       "       [15.439888],\n",
       "       [15.439888],\n",
       "       [15.439888],\n",
       "       [15.439888],\n",
       "       [15.439888],\n",
       "       [15.439888],\n",
       "       [15.439888],\n",
       "       [15.439888],\n",
       "       [15.439888],\n",
       "       [15.439888],\n",
       "       [15.439888],\n",
       "       [15.439888],\n",
       "       [15.439888],\n",
       "       [15.439888],\n",
       "       [15.439888],\n",
       "       [15.439888],\n",
       "       [15.439888],\n",
       "       [15.439888],\n",
       "       [16.001877],\n",
       "       [16.001877],\n",
       "       [16.001877],\n",
       "       [16.001877],\n",
       "       [16.001877],\n",
       "       [15.193402],\n",
       "       [15.193402],\n",
       "       [15.193402],\n",
       "       [15.193402],\n",
       "       [15.193402],\n",
       "       [15.193402],\n",
       "       [15.193402],\n",
       "       [15.193402],\n",
       "       [15.193402],\n",
       "       [15.193402],\n",
       "       [15.193402],\n",
       "       [15.193402],\n",
       "       [15.193402],\n",
       "       [15.193402],\n",
       "       [15.193402],\n",
       "       [15.193402],\n",
       "       [15.193402],\n",
       "       [15.193402],\n",
       "       [15.193402],\n",
       "       [15.193402],\n",
       "       [15.193402],\n",
       "       [15.193402],\n",
       "       [15.193402],\n",
       "       [15.193402],\n",
       "       [15.193402],\n",
       "       [15.193402],\n",
       "       [15.193402],\n",
       "       [15.193402],\n",
       "       [15.193402],\n",
       "       [15.193402],\n",
       "       [15.193402],\n",
       "       [15.193402],\n",
       "       [15.193402],\n",
       "       [15.193402],\n",
       "       [15.193402],\n",
       "       [14.542679],\n",
       "       [14.542679],\n",
       "       [14.542679],\n",
       "       [14.542679],\n",
       "       [14.542679],\n",
       "       [14.542679],\n",
       "       [14.542679],\n",
       "       [14.542679],\n",
       "       [14.542679],\n",
       "       [14.542679],\n",
       "       [14.542679],\n",
       "       [14.542679],\n",
       "       [14.542679],\n",
       "       [14.542679],\n",
       "       [14.542679],\n",
       "       [14.542679],\n",
       "       [14.739868],\n",
       "       [14.739868],\n",
       "       [14.739868],\n",
       "       [14.739868],\n",
       "       [14.739868],\n",
       "       [14.690571],\n",
       "       [14.690571],\n",
       "       [14.690571],\n",
       "       [14.690571],\n",
       "       [14.690571],\n",
       "       [14.690571],\n",
       "       [14.690571],\n",
       "       [14.690571],\n",
       "       [14.690571],\n",
       "       [14.690571],\n",
       "       [14.690571],\n",
       "       [14.690571],\n",
       "       [14.690571],\n",
       "       [14.690571],\n",
       "       [14.690571],\n",
       "       [14.690571],\n",
       "       [14.690571],\n",
       "       [14.690571],\n",
       "       [14.690571],\n",
       "       [14.690571],\n",
       "       [14.690571],\n",
       "       [14.690571],\n",
       "       [14.690571],\n",
       "       [14.690571],\n",
       "       [14.690571],\n",
       "       [14.690571],\n",
       "       [14.690571],\n",
       "       [14.690571],\n",
       "       [14.690571],\n",
       "       [14.690571],\n",
       "       [14.690571],\n",
       "       [14.690571],\n",
       "       [14.690571],\n",
       "       [14.690571],\n",
       "       [14.690571],\n",
       "       [14.690571],\n",
       "       [15.656797],\n",
       "       [15.656797],\n",
       "       [15.656797],\n",
       "       [15.656797],\n",
       "       [15.656797],\n",
       "       [15.656797],\n",
       "       [15.656797],\n",
       "       [15.656797],\n",
       "       [15.725123],\n",
       "       [15.725123],\n",
       "       [15.725123],\n",
       "       [15.725123],\n",
       "       [15.725123],\n",
       "       [15.725123],\n",
       "       [15.725123],\n",
       "       [14.437801],\n",
       "       [14.002093],\n",
       "       [14.002093],\n",
       "       [14.625949],\n",
       "       [14.625949],\n",
       "       [14.625949],\n",
       "       [14.625949],\n",
       "       [14.625949],\n",
       "       [14.427898],\n",
       "       [14.427898],\n",
       "       [14.427898],\n",
       "       [14.427898],\n",
       "       [14.427898],\n",
       "       [14.427898],\n",
       "       [14.427898],\n",
       "       [15.101268],\n",
       "       [15.101268],\n",
       "       [15.101268],\n",
       "       [15.101268],\n",
       "       [15.101268],\n",
       "       [15.101268],\n",
       "       [15.101268],\n",
       "       [15.101268],\n",
       "       [15.467659],\n",
       "       [15.467659],\n",
       "       [15.467659],\n",
       "       [15.497366],\n",
       "       [15.497366],\n",
       "       [15.497366],\n",
       "       [15.497366],\n",
       "       [15.497366],\n",
       "       [15.497366],\n",
       "       [15.497366],\n",
       "       [15.695416],\n",
       "       [15.695416],\n",
       "       [15.695416],\n",
       "       [15.695416],\n",
       "       [15.695416],\n",
       "       [15.507268],\n",
       "       [15.507268],\n",
       "       [15.507268],\n",
       "       [15.507268],\n",
       "       [15.507268],\n",
       "       [15.507268],\n",
       "       [15.507268],\n",
       "       [15.507268],\n",
       "       [15.507268],\n",
       "       [15.507268],\n",
       "       [15.507268],\n",
       "       [15.507268],\n",
       "       [15.507268],\n",
       "       [15.507268],\n",
       "       [15.507268],\n",
       "       [15.507268],\n",
       "       [15.507268],\n",
       "       [15.507268],\n",
       "       [16.586637],\n",
       "       [16.586637],\n",
       "       [16.586637],\n",
       "       [16.586637],\n",
       "       [16.586637],\n",
       "       [16.586637],\n",
       "       [16.586637],\n",
       "       [17.517471],\n",
       "       [17.517471],\n",
       "       [17.517471],\n",
       "       [17.517471],\n",
       "       [17.517471],\n",
       "       [17.517471],\n",
       "       [17.517471],\n",
       "       [17.517471],\n",
       "       [17.517471],\n",
       "       [17.517471],\n",
       "       [17.517471],\n",
       "       [17.517471],\n",
       "       [17.517471],\n",
       "       [17.517471],\n",
       "       [17.517471],\n",
       "       [17.517471],\n",
       "       [17.517471],\n",
       "       [16.636148],\n",
       "       [16.636148],\n",
       "       [16.636148],\n",
       "       [16.636148],\n",
       "       [16.636148],\n",
       "       [16.636148],\n",
       "       [16.636148],\n",
       "       [16.636148],\n",
       "       [16.636148],\n",
       "       [16.636148],\n",
       "       [16.636148],\n",
       "       [16.636148],\n",
       "       [16.636148],\n",
       "       [16.636148],\n",
       "       [16.636148],\n",
       "       [16.636148],\n",
       "       [16.636148],\n",
       "       [16.704758],\n",
       "       [16.704758],\n",
       "       [16.704758],\n",
       "       [16.704758],\n",
       "       [16.704758],\n",
       "       [16.704758],\n",
       "       [16.704758],\n",
       "       [16.704758],\n",
       "       [16.704758],\n",
       "       [16.704758],\n",
       "       [16.704758],\n",
       "       [16.704758],\n",
       "       [16.704758],\n",
       "       [16.704758],\n",
       "       [16.704758],\n",
       "       [16.704758],\n",
       "       [16.704758],\n",
       "       [16.704758],\n",
       "       [16.704758],\n",
       "       [16.704758],\n",
       "       [16.704758],\n",
       "       [16.704758],\n",
       "       [16.704758],\n",
       "       [16.704758],\n",
       "       [16.704758],\n",
       "       [16.704758],\n",
       "       [16.704758],\n",
       "       [16.704758],\n",
       "       [16.704758],\n",
       "       [16.704758],\n",
       "       [16.704758],\n",
       "       [16.704758],\n",
       "       [16.704758],\n",
       "       [16.704758],\n",
       "       [16.704758],\n",
       "       [16.704758],\n",
       "       [16.704758],\n",
       "       [16.704758],\n",
       "       [16.704758],\n",
       "       [16.704758],\n",
       "       [16.704758],\n",
       "       [16.704758],\n",
       "       [16.704758],\n",
       "       [16.704758],\n",
       "       [16.704758],\n",
       "       [16.704758],\n",
       "       [16.704758],\n",
       "       [16.257311],\n",
       "       [16.257311],\n",
       "       [16.257311],\n",
       "       [16.257311],\n",
       "       [15.640824],\n",
       "       [15.640824],\n",
       "       [15.640824],\n",
       "       [15.640824],\n",
       "       [15.640824],\n",
       "       [15.640824],\n",
       "       [15.640824],\n",
       "       [15.640824],\n",
       "       [15.640824],\n",
       "       [15.640824],\n",
       "       [15.640824],\n",
       "       [15.640824],\n",
       "       [15.640824],\n",
       "       [15.610994],\n",
       "       [15.392241],\n",
       "       [14.96468 ],\n",
       "       [14.96468 ],\n",
       "       [14.96468 ],\n",
       "       [14.96468 ],\n",
       "       [14.96468 ],\n",
       "       [14.96468 ],\n",
       "       [14.96468 ],\n",
       "       [14.96468 ],\n",
       "       [14.96468 ],\n",
       "       [14.96468 ],\n",
       "       [14.96468 ],\n",
       "       [14.96468 ],\n",
       "       [14.96468 ],\n",
       "       [14.96468 ],\n",
       "       [14.96468 ],\n",
       "       [14.96468 ],\n",
       "       [14.96468 ],\n",
       "       [14.96468 ],\n",
       "       [14.487401],\n",
       "       [14.487401],\n",
       "       [14.487401],\n",
       "       [14.487401],\n",
       "       [14.487401],\n",
       "       [14.487401],\n",
       "       [14.686268],\n",
       "       [14.686268],\n",
       "       [14.686268],\n",
       "       [14.686268],\n",
       "       [14.417798],\n",
       "       [14.417798],\n",
       "       [14.417798],\n",
       "       [13.751596],\n",
       "       [13.751596],\n",
       "       [13.751596],\n",
       "       [13.751596],\n",
       "       [13.751596],\n",
       "       [13.751596],\n",
       "       [13.751596],\n",
       "       [13.751596],\n",
       "       [13.751596],\n",
       "       [13.751596],\n",
       "       [13.751596],\n",
       "       [13.751596],\n",
       "       [13.751596],\n",
       "       [13.751596],\n",
       "       [13.751596],\n",
       "       [13.751596],\n",
       "       [13.751596],\n",
       "       [12.906414],\n",
       "       [12.906414],\n",
       "       [12.906414],\n",
       "       [12.906414],\n",
       "       [12.906414],\n",
       "       [12.906414],\n",
       "       [11.931971],\n",
       "       [11.931971],\n",
       "       [11.931971],\n",
       "       [11.931971],\n",
       "       [11.931971],\n",
       "       [11.931971],\n",
       "       [11.931971],\n",
       "       [11.931971],\n",
       "       [11.931971],\n",
       "       [11.931971],\n",
       "       [11.931971],\n",
       "       [10.937639],\n",
       "       [10.937639],\n",
       "       [10.937639],\n",
       "       [10.937639],\n",
       "       [10.937639],\n",
       "       [10.937639],\n",
       "       [10.937639],\n",
       "       [10.937639],\n",
       "       [10.937639],\n",
       "       [10.937639],\n",
       "       [10.699   ],\n",
       "       [10.699   ],\n",
       "       [10.699   ],\n",
       "       [10.699   ],\n",
       "       [10.699   ],\n",
       "       [10.699   ],\n",
       "       [10.76    ],\n",
       "       [10.76    ],\n",
       "       [10.76    ],\n",
       "       [10.76    ],\n",
       "       [10.76    ],\n",
       "       [10.76    ],\n",
       "       [10.76    ],\n",
       "       [10.76    ],\n",
       "       [12.59    ],\n",
       "       [12.59    ],\n",
       "       [12.59    ],\n",
       "       [12.59    ],\n",
       "       [12.59    ],\n",
       "       [13.      ],\n",
       "       [13.      ],\n",
       "       [13.      ],\n",
       "       [13.      ],\n",
       "       [13.      ],\n",
       "       [13.      ],\n",
       "       [13.      ],\n",
       "       [13.      ],\n",
       "       [14.16    ],\n",
       "       [14.16    ],\n",
       "       [14.16    ],\n",
       "       [14.16    ],\n",
       "       [14.16    ],\n",
       "       [14.16    ],\n",
       "       [14.16    ],\n",
       "       [14.16    ],\n",
       "       [14.16    ],\n",
       "       [14.16    ],\n",
       "       [14.16    ],\n",
       "       [14.16    ],\n",
       "       [14.16    ],\n",
       "       [14.16    ],\n",
       "       [14.16    ],\n",
       "       [14.16    ],\n",
       "       [14.16    ],\n",
       "       [14.16    ],\n",
       "       [14.16    ],\n",
       "       [14.16    ],\n",
       "       [14.16    ],\n",
       "       [14.16    ],\n",
       "       [12.      ],\n",
       "       [12.      ],\n",
       "       [12.      ],\n",
       "       [12.      ],\n",
       "       [12.      ],\n",
       "       [12.      ],\n",
       "       [12.      ],\n",
       "       [12.      ],\n",
       "       [12.      ],\n",
       "       [12.      ],\n",
       "       [12.      ]])"
      ]
     },
     "execution_count": 6,
     "metadata": {},
     "output_type": "execute_result"
    }
   ],
   "source": [
    "ds = pri.values\n",
    "ds"
   ]
  },
  {
   "cell_type": "code",
   "execution_count": 7,
   "id": "d95bb15d",
   "metadata": {},
   "outputs": [
    {
     "data": {
      "text/plain": [
       "[<matplotlib.lines.Line2D at 0x123e45ef040>]"
      ]
     },
     "execution_count": 7,
     "metadata": {},
     "output_type": "execute_result"
    },
    {
     "data": {
      "image/png": "[encoded data removed]",
      "text/plain": [
       "<Figure size 432x288 with 1 Axes>"
      ]
     },
     "metadata": {
      "needs_background": "light"
     },
     "output_type": "display_data"
    }
   ],
   "source": [
    "plt.plot(ds)"
   ]
  },
  {
   "cell_type": "code",
   "execution_count": 8,
   "id": "3626c952",
   "metadata": {},
   "outputs": [
    {
     "data": {
      "text/plain": [
       "(503, 503)"
      ]
     },
     "execution_count": 8,
     "metadata": {},
     "output_type": "execute_result"
    }
   ],
   "source": [
    "from sklearn.preprocessing import MinMaxScaler\n",
    "#Using MinMaxScaler for normalizing data between 0 & 1\n",
    "normalizer = MinMaxScaler(feature_range=(0,1))\n",
    "ds_scaled = normalizer.fit_transform(np.array(ds).reshape(-1,1))\n",
    "len(ds_scaled), len(ds)"
   ]
  },
  {
   "cell_type": "code",
   "execution_count": 9,
   "id": "d7b6b88a",
   "metadata": {},
   "outputs": [
    {
     "data": {
      "text/plain": [
       "array([[0.49045152],\n",
       "       [0.49045152],\n",
       "       [0.49045152],\n",
       "       [0.49045152],\n",
       "       [0.49045152],\n",
       "       [0.49045152],\n",
       "       [0.49045152],\n",
       "       [0.49045152],\n",
       "       [0.49045152],\n",
       "       [0.62755744],\n",
       "       [0.5687978 ],\n",
       "       [0.5687978 ],\n",
       "       [0.5687978 ],\n",
       "       [0.5687978 ],\n",
       "       [0.5687978 ],\n",
       "       [0.5687978 ],\n",
       "       [0.5687978 ],\n",
       "       [0.5687978 ],\n",
       "       [0.5687978 ],\n",
       "       [0.5687978 ],\n",
       "       [0.5687978 ],\n",
       "       [0.5687978 ],\n",
       "       [0.5687978 ],\n",
       "       [0.5687978 ],\n",
       "       [0.5687978 ],\n",
       "       [0.5687978 ],\n",
       "       [0.5687978 ],\n",
       "       [0.5687978 ],\n",
       "       [0.5687978 ],\n",
       "       [0.5687978 ],\n",
       "       [0.5687978 ],\n",
       "       [0.5687978 ],\n",
       "       [0.5687978 ],\n",
       "       [0.66020161],\n",
       "       [0.66020161],\n",
       "       [0.66020161],\n",
       "       [0.66020161],\n",
       "       [0.66020161],\n",
       "       [0.66020161],\n",
       "       [0.66020161],\n",
       "       [0.66020161],\n",
       "       [0.66020161],\n",
       "       [0.66020161],\n",
       "       [0.98795028],\n",
       "       [0.99056168],\n",
       "       [0.99056168],\n",
       "       [1.        ],\n",
       "       [0.90430608],\n",
       "       [0.96067383],\n",
       "       [0.96067383],\n",
       "       [0.96067383],\n",
       "       [0.96067383],\n",
       "       [0.96067383],\n",
       "       [0.92003657],\n",
       "       [0.92003657],\n",
       "       [0.92003657],\n",
       "       [0.92003657],\n",
       "       [0.92003657],\n",
       "       [0.92003657],\n",
       "       [0.92003657],\n",
       "       [0.92003657],\n",
       "       [0.92003657],\n",
       "       [0.92003657],\n",
       "       [0.92003657],\n",
       "       [0.92003657],\n",
       "       [0.92003657],\n",
       "       [0.92003657],\n",
       "       [0.92003657],\n",
       "       [0.92003657],\n",
       "       [0.92003657],\n",
       "       [0.92003657],\n",
       "       [0.92003657],\n",
       "       [0.92003657],\n",
       "       [0.92003657],\n",
       "       [0.63033237],\n",
       "       [0.63033237],\n",
       "       [0.63033237],\n",
       "       [0.63033237],\n",
       "       [0.63033237],\n",
       "       [0.63033237],\n",
       "       [0.63033237],\n",
       "       [0.63033237],\n",
       "       [0.63033237],\n",
       "       [0.63033237],\n",
       "       [0.63033237],\n",
       "       [0.63033237],\n",
       "       [0.63033237],\n",
       "       [0.63033237],\n",
       "       [0.63033237],\n",
       "       [0.63033237],\n",
       "       [0.63033237],\n",
       "       [0.63033237],\n",
       "       [0.63033237],\n",
       "       [0.70505252],\n",
       "       [0.70505252],\n",
       "       [0.70505252],\n",
       "       [0.70505252],\n",
       "       [0.70505252],\n",
       "       [0.59756043],\n",
       "       [0.59756043],\n",
       "       [0.59756043],\n",
       "       [0.59756043],\n",
       "       [0.59756043],\n",
       "       [0.59756043],\n",
       "       [0.59756043],\n",
       "       [0.59756043],\n",
       "       [0.59756043],\n",
       "       [0.59756043],\n",
       "       [0.59756043],\n",
       "       [0.59756043],\n",
       "       [0.59756043],\n",
       "       [0.59756043],\n",
       "       [0.59756043],\n",
       "       [0.59756043],\n",
       "       [0.59756043],\n",
       "       [0.59756043],\n",
       "       [0.59756043],\n",
       "       [0.59756043],\n",
       "       [0.59756043],\n",
       "       [0.59756043],\n",
       "       [0.59756043],\n",
       "       [0.59756043],\n",
       "       [0.59756043],\n",
       "       [0.59756043],\n",
       "       [0.59756043],\n",
       "       [0.59756043],\n",
       "       [0.59756043],\n",
       "       [0.59756043],\n",
       "       [0.59756043],\n",
       "       [0.59756043],\n",
       "       [0.59756043],\n",
       "       [0.59756043],\n",
       "       [0.59756043],\n",
       "       [0.51104251],\n",
       "       [0.51104251],\n",
       "       [0.51104251],\n",
       "       [0.51104251],\n",
       "       [0.51104251],\n",
       "       [0.51104251],\n",
       "       [0.51104251],\n",
       "       [0.51104251],\n",
       "       [0.51104251],\n",
       "       [0.51104251],\n",
       "       [0.51104251],\n",
       "       [0.51104251],\n",
       "       [0.51104251],\n",
       "       [0.51104251],\n",
       "       [0.51104251],\n",
       "       [0.51104251],\n",
       "       [0.53726009],\n",
       "       [0.53726009],\n",
       "       [0.53726009],\n",
       "       [0.53726009],\n",
       "       [0.53726009],\n",
       "       [0.53070573],\n",
       "       [0.53070573],\n",
       "       [0.53070573],\n",
       "       [0.53070573],\n",
       "       [0.53070573],\n",
       "       [0.53070573],\n",
       "       [0.53070573],\n",
       "       [0.53070573],\n",
       "       [0.53070573],\n",
       "       [0.53070573],\n",
       "       [0.53070573],\n",
       "       [0.53070573],\n",
       "       [0.53070573],\n",
       "       [0.53070573],\n",
       "       [0.53070573],\n",
       "       [0.53070573],\n",
       "       [0.53070573],\n",
       "       [0.53070573],\n",
       "       [0.53070573],\n",
       "       [0.53070573],\n",
       "       [0.53070573],\n",
       "       [0.53070573],\n",
       "       [0.53070573],\n",
       "       [0.53070573],\n",
       "       [0.53070573],\n",
       "       [0.53070573],\n",
       "       [0.53070573],\n",
       "       [0.53070573],\n",
       "       [0.53070573],\n",
       "       [0.53070573],\n",
       "       [0.53070573],\n",
       "       [0.53070573],\n",
       "       [0.53070573],\n",
       "       [0.53070573],\n",
       "       [0.53070573],\n",
       "       [0.53070573],\n",
       "       [0.65917186],\n",
       "       [0.65917186],\n",
       "       [0.65917186],\n",
       "       [0.65917186],\n",
       "       [0.65917186],\n",
       "       [0.65917186],\n",
       "       [0.65917186],\n",
       "       [0.65917186],\n",
       "       [0.66825625],\n",
       "       [0.66825625],\n",
       "       [0.66825625],\n",
       "       [0.66825625],\n",
       "       [0.66825625],\n",
       "       [0.66825625],\n",
       "       [0.66825625],\n",
       "       [0.49709829],\n",
       "       [0.43916803],\n",
       "       [0.43916803],\n",
       "       [0.52211381],\n",
       "       [0.52211381],\n",
       "       [0.52211381],\n",
       "       [0.52211381],\n",
       "       [0.52211381],\n",
       "       [0.49578162],\n",
       "       [0.49578162],\n",
       "       [0.49578162],\n",
       "       [0.49578162],\n",
       "       [0.49578162],\n",
       "       [0.49578162],\n",
       "       [0.49578162],\n",
       "       [0.58531061],\n",
       "       [0.58531061],\n",
       "       [0.58531061],\n",
       "       [0.58531061],\n",
       "       [0.58531061],\n",
       "       [0.58531061],\n",
       "       [0.58531061],\n",
       "       [0.58531061],\n",
       "       [0.63402471],\n",
       "       [0.63402471],\n",
       "       [0.63402471],\n",
       "       [0.63797445],\n",
       "       [0.63797445],\n",
       "       [0.63797445],\n",
       "       [0.63797445],\n",
       "       [0.63797445],\n",
       "       [0.63797445],\n",
       "       [0.63797445],\n",
       "       [0.66430651],\n",
       "       [0.66430651],\n",
       "       [0.66430651],\n",
       "       [0.66430651],\n",
       "       [0.66430651],\n",
       "       [0.63929099],\n",
       "       [0.63929099],\n",
       "       [0.63929099],\n",
       "       [0.63929099],\n",
       "       [0.63929099],\n",
       "       [0.63929099],\n",
       "       [0.63929099],\n",
       "       [0.63929099],\n",
       "       [0.63929099],\n",
       "       [0.63929099],\n",
       "       [0.63929099],\n",
       "       [0.63929099],\n",
       "       [0.63929099],\n",
       "       [0.63929099],\n",
       "       [0.63929099],\n",
       "       [0.63929099],\n",
       "       [0.63929099],\n",
       "       [0.63929099],\n",
       "       [0.78280023],\n",
       "       [0.78280023],\n",
       "       [0.78280023],\n",
       "       [0.78280023],\n",
       "       [0.78280023],\n",
       "       [0.78280023],\n",
       "       [0.78280023],\n",
       "       [0.90656076],\n",
       "       [0.90656076],\n",
       "       [0.90656076],\n",
       "       [0.90656076],\n",
       "       [0.90656076],\n",
       "       [0.90656076],\n",
       "       [0.90656076],\n",
       "       [0.90656076],\n",
       "       [0.90656076],\n",
       "       [0.90656076],\n",
       "       [0.90656076],\n",
       "       [0.90656076],\n",
       "       [0.90656076],\n",
       "       [0.90656076],\n",
       "       [0.90656076],\n",
       "       [0.90656076],\n",
       "       [0.90656076],\n",
       "       [0.78938304],\n",
       "       [0.78938304],\n",
       "       [0.78938304],\n",
       "       [0.78938304],\n",
       "       [0.78938304],\n",
       "       [0.78938304],\n",
       "       [0.78938304],\n",
       "       [0.78938304],\n",
       "       [0.78938304],\n",
       "       [0.78938304],\n",
       "       [0.78938304],\n",
       "       [0.78938304],\n",
       "       [0.78938304],\n",
       "       [0.78938304],\n",
       "       [0.78938304],\n",
       "       [0.78938304],\n",
       "       [0.78938304],\n",
       "       [0.7985052 ],\n",
       "       [0.7985052 ],\n",
       "       [0.7985052 ],\n",
       "       [0.7985052 ],\n",
       "       [0.7985052 ],\n",
       "       [0.7985052 ],\n",
       "       [0.7985052 ],\n",
       "       [0.7985052 ],\n",
       "       [0.7985052 ],\n",
       "       [0.7985052 ],\n",
       "       [0.7985052 ],\n",
       "       [0.7985052 ],\n",
       "       [0.7985052 ],\n",
       "       [0.7985052 ],\n",
       "       [0.7985052 ],\n",
       "       [0.7985052 ],\n",
       "       [0.7985052 ],\n",
       "       [0.7985052 ],\n",
       "       [0.7985052 ],\n",
       "       [0.7985052 ],\n",
       "       [0.7985052 ],\n",
       "       [0.7985052 ],\n",
       "       [0.7985052 ],\n",
       "       [0.7985052 ],\n",
       "       [0.7985052 ],\n",
       "       [0.7985052 ],\n",
       "       [0.7985052 ],\n",
       "       [0.7985052 ],\n",
       "       [0.7985052 ],\n",
       "       [0.7985052 ],\n",
       "       [0.7985052 ],\n",
       "       [0.7985052 ],\n",
       "       [0.7985052 ],\n",
       "       [0.7985052 ],\n",
       "       [0.7985052 ],\n",
       "       [0.7985052 ],\n",
       "       [0.7985052 ],\n",
       "       [0.7985052 ],\n",
       "       [0.7985052 ],\n",
       "       [0.7985052 ],\n",
       "       [0.7985052 ],\n",
       "       [0.7985052 ],\n",
       "       [0.7985052 ],\n",
       "       [0.7985052 ],\n",
       "       [0.7985052 ],\n",
       "       [0.7985052 ],\n",
       "       [0.7985052 ],\n",
       "       [0.73901416],\n",
       "       [0.73901416],\n",
       "       [0.73901416],\n",
       "       [0.73901416],\n",
       "       [0.65704814],\n",
       "       [0.65704814],\n",
       "       [0.65704814],\n",
       "       [0.65704814],\n",
       "       [0.65704814],\n",
       "       [0.65704814],\n",
       "       [0.65704814],\n",
       "       [0.65704814],\n",
       "       [0.65704814],\n",
       "       [0.65704814],\n",
       "       [0.65704814],\n",
       "       [0.65704814],\n",
       "       [0.65704814],\n",
       "       [0.65308205],\n",
       "       [0.62399739],\n",
       "       [0.56715033],\n",
       "       [0.56715033],\n",
       "       [0.56715033],\n",
       "       [0.56715033],\n",
       "       [0.56715033],\n",
       "       [0.56715033],\n",
       "       [0.56715033],\n",
       "       [0.56715033],\n",
       "       [0.56715033],\n",
       "       [0.56715033],\n",
       "       [0.56715033],\n",
       "       [0.56715033],\n",
       "       [0.56715033],\n",
       "       [0.56715033],\n",
       "       [0.56715033],\n",
       "       [0.56715033],\n",
       "       [0.56715033],\n",
       "       [0.56715033],\n",
       "       [0.50369294],\n",
       "       [0.50369294],\n",
       "       [0.50369294],\n",
       "       [0.50369294],\n",
       "       [0.50369294],\n",
       "       [0.50369294],\n",
       "       [0.53013362],\n",
       "       [0.53013362],\n",
       "       [0.53013362],\n",
       "       [0.53013362],\n",
       "       [0.49443876],\n",
       "       [0.49443876],\n",
       "       [0.49443876],\n",
       "       [0.4058628 ],\n",
       "       [0.4058628 ],\n",
       "       [0.4058628 ],\n",
       "       [0.4058628 ],\n",
       "       [0.4058628 ],\n",
       "       [0.4058628 ],\n",
       "       [0.4058628 ],\n",
       "       [0.4058628 ],\n",
       "       [0.4058628 ],\n",
       "       [0.4058628 ],\n",
       "       [0.4058628 ],\n",
       "       [0.4058628 ],\n",
       "       [0.4058628 ],\n",
       "       [0.4058628 ],\n",
       "       [0.4058628 ],\n",
       "       [0.4058628 ],\n",
       "       [0.4058628 ],\n",
       "       [0.29349027],\n",
       "       [0.29349027],\n",
       "       [0.29349027],\n",
       "       [0.29349027],\n",
       "       [0.29349027],\n",
       "       [0.29349027],\n",
       "       [0.16393164],\n",
       "       [0.16393164],\n",
       "       [0.16393164],\n",
       "       [0.16393164],\n",
       "       [0.16393164],\n",
       "       [0.16393164],\n",
       "       [0.16393164],\n",
       "       [0.16393164],\n",
       "       [0.16393164],\n",
       "       [0.16393164],\n",
       "       [0.16393164],\n",
       "       [0.03172863],\n",
       "       [0.03172863],\n",
       "       [0.03172863],\n",
       "       [0.03172863],\n",
       "       [0.03172863],\n",
       "       [0.03172863],\n",
       "       [0.03172863],\n",
       "       [0.03172863],\n",
       "       [0.03172863],\n",
       "       [0.03172863],\n",
       "       [0.        ],\n",
       "       [0.        ],\n",
       "       [0.        ],\n",
       "       [0.        ],\n",
       "       [0.        ],\n",
       "       [0.        ],\n",
       "       [0.00811035],\n",
       "       [0.00811035],\n",
       "       [0.00811035],\n",
       "       [0.00811035],\n",
       "       [0.00811035],\n",
       "       [0.00811035],\n",
       "       [0.00811035],\n",
       "       [0.00811035],\n",
       "       [0.25142094],\n",
       "       [0.25142094],\n",
       "       [0.25142094],\n",
       "       [0.25142094],\n",
       "       [0.25142094],\n",
       "       [0.30593315],\n",
       "       [0.30593315],\n",
       "       [0.30593315],\n",
       "       [0.30593315],\n",
       "       [0.30593315],\n",
       "       [0.30593315],\n",
       "       [0.30593315],\n",
       "       [0.30593315],\n",
       "       [0.46016281],\n",
       "       [0.46016281],\n",
       "       [0.46016281],\n",
       "       [0.46016281],\n",
       "       [0.46016281],\n",
       "       [0.46016281],\n",
       "       [0.46016281],\n",
       "       [0.46016281],\n",
       "       [0.46016281],\n",
       "       [0.46016281],\n",
       "       [0.46016281],\n",
       "       [0.46016281],\n",
       "       [0.46016281],\n",
       "       [0.46016281],\n",
       "       [0.46016281],\n",
       "       [0.46016281],\n",
       "       [0.46016281],\n",
       "       [0.46016281],\n",
       "       [0.46016281],\n",
       "       [0.46016281],\n",
       "       [0.46016281],\n",
       "       [0.46016281],\n",
       "       [0.17297654],\n",
       "       [0.17297654],\n",
       "       [0.17297654],\n",
       "       [0.17297654],\n",
       "       [0.17297654],\n",
       "       [0.17297654],\n",
       "       [0.17297654],\n",
       "       [0.17297654],\n",
       "       [0.17297654],\n",
       "       [0.17297654],\n",
       "       [0.17297654]])"
      ]
     },
     "execution_count": 9,
     "metadata": {},
     "output_type": "execute_result"
    }
   ],
   "source": [
    "ds_scaled"
   ]
  },
  {
   "cell_type": "code",
   "execution_count": 10,
   "id": "4c6b3a44",
   "metadata": {},
   "outputs": [
    {
     "data": {
      "text/plain": [
       "(402, 101)"
      ]
     },
     "execution_count": 10,
     "metadata": {},
     "output_type": "execute_result"
    }
   ],
   "source": [
    "#Defining test and train data sizes\n",
    "train_size = int(len(ds_scaled)*0.80)\n",
    "test_size = len(ds_scaled) - train_size\n",
    "train_size,test_size"
   ]
  },
  {
   "cell_type": "code",
   "execution_count": 11,
   "id": "6fa7d5c2",
   "metadata": {},
   "outputs": [
    {
     "data": {
      "text/plain": [
       "(402, 101)"
      ]
     },
     "execution_count": 11,
     "metadata": {},
     "output_type": "execute_result"
    }
   ],
   "source": [
    "#Splitting data between train and test\n",
    "ds_train, ds_test = ds_scaled[0:train_size,:], ds_scaled[train_size:len(ds_scaled),:1]\n",
    "len(ds_train),len(ds_test)"
   ]
  },
  {
   "cell_type": "code",
   "execution_count": 12,
   "id": "98ca233d",
   "metadata": {},
   "outputs": [
    {
     "data": {
      "text/plain": [
       "(402, 101)"
      ]
     },
     "execution_count": 12,
     "metadata": {},
     "output_type": "execute_result"
    }
   ],
   "source": [
    "len(ds_train),len(ds_test)"
   ]
  },
  {
   "cell_type": "code",
   "execution_count": 13,
   "id": "c36a8587",
   "metadata": {},
   "outputs": [],
   "source": [
    "#creating dataset in time series for LSTM model \n",
    "#X[100,120,140,160,180] : Y[200]\n",
    "def create_ds(dataset,step):\n",
    "    Xtrain, Ytrain = [], []\n",
    "    for i in range(len(dataset)-step-1):\n",
    "        a = dataset[i:(i+step), 0]\n",
    "        Xtrain.append(a)\n",
    "        Ytrain.append(dataset[i + step, 0])\n",
    "    return np.array(Xtrain), np.array(Ytrain)"
   ]
  },
  {
   "cell_type": "code",
   "execution_count": 14,
   "id": "7039498e",
   "metadata": {},
   "outputs": [],
   "source": [
    "#Taking 50 days price as one record for training\n",
    "prevdays = 50\n",
    "time_stamp = prevdays\n",
    "X_train, y_train = create_ds(ds_train,time_stamp)\n",
    "X_test, y_test = create_ds(ds_test,time_stamp)"
   ]
  },
  {
   "cell_type": "code",
   "execution_count": 15,
   "id": "04cb5a37",
   "metadata": {},
   "outputs": [
    {
     "data": {
      "text/plain": [
       "((351, 50), (351,))"
      ]
     },
     "execution_count": 15,
     "metadata": {},
     "output_type": "execute_result"
    }
   ],
   "source": [
    "\n",
    "X_train.shape,y_train.shape"
   ]
  },
  {
   "cell_type": "code",
   "execution_count": 16,
   "id": "0dbb8615",
   "metadata": {},
   "outputs": [
    {
     "data": {
      "text/plain": [
       "((50, 50), (50,))"
      ]
     },
     "execution_count": 16,
     "metadata": {},
     "output_type": "execute_result"
    }
   ],
   "source": [
    "X_test.shape, y_test.shape"
   ]
  },
  {
   "cell_type": "code",
   "execution_count": 17,
   "id": "85e96f28",
   "metadata": {},
   "outputs": [],
   "source": [
    "#Reshaping data to fit into LSTM model\n",
    "X_train = X_train.reshape(X_train.shape[0],X_train.shape[1] , 1)\n",
    "X_test = X_test.reshape(X_test.shape[0],X_test.shape[1] , 1)"
   ]
  },
  {
   "cell_type": "code",
   "execution_count": 18,
   "id": "e3065b1b",
   "metadata": {},
   "outputs": [
    {
     "name": "stdout",
     "output_type": "stream",
     "text": [
      "Model: \"sequential\"\n",
      "_________________________________________________________________\n",
      " Layer (type)                Output Shape              Param #   \n",
      "=================================================================\n",
      " lstm (LSTM)                 (None, 50, 50)            10400     \n",
      "                                                                 \n",
      " lstm_1 (LSTM)               (None, 50, 50)            20200     \n",
      "                                                                 \n",
      " lstm_2 (LSTM)               (None, 50)                20200     \n",
      "                                                                 \n",
      " dense (Dense)               (None, 1)                 51        \n",
      "                                                                 \n",
      "=================================================================\n",
      "Total params: 50,851\n",
      "Trainable params: 50,851\n",
      "Non-trainable params: 0\n",
      "_________________________________________________________________\n"
     ]
    }
   ],
   "source": [
    "from keras.models import Sequential\n",
    "from keras.layers import Dense, LSTM\n",
    "\n",
    "#Creating LSTM model using keras\n",
    "model = Sequential()\n",
    "model.add(LSTM(units=50,return_sequences=True,input_shape=(X_train.shape[1],1)))\n",
    "model.add(LSTM(units=50,return_sequences=True))\n",
    "model.add(LSTM(units=50))\n",
    "model.add(Dense(units=1,activation='linear'))\n",
    "model.summary()"
   ]
  },
  {
   "cell_type": "code",
   "execution_count": 19,
   "id": "453e00dc",
   "metadata": {},
   "outputs": [
    {
     "name": "stdout",
     "output_type": "stream",
     "text": [
      "Epoch 1/100\n",
      "18/18 [==============================] - 17s 281ms/step - loss: 0.1025 - val_loss: 0.0226\n",
      "Epoch 2/100\n",
      "18/18 [==============================] - 1s 76ms/step - loss: 0.0113 - val_loss: 0.0233\n",
      "Epoch 3/100\n",
      "18/18 [==============================] - 2s 88ms/step - loss: 0.0085 - val_loss: 0.0262\n",
      "Epoch 4/100\n",
      "18/18 [==============================] - 1s 75ms/step - loss: 0.0071 - val_loss: 0.0267\n",
      "Epoch 5/100\n",
      "18/18 [==============================] - 1s 76ms/step - loss: 0.0064 - val_loss: 0.0235\n",
      "Epoch 6/100\n",
      "18/18 [==============================] - 1s 76ms/step - loss: 0.0062 - val_loss: 0.0241\n",
      "Epoch 7/100\n",
      "18/18 [==============================] - 2s 90ms/step - loss: 0.0057 - val_loss: 0.0235\n",
      "Epoch 8/100\n",
      "18/18 [==============================] - 1s 75ms/step - loss: 0.0050 - val_loss: 0.0207\n",
      "Epoch 9/100\n",
      "18/18 [==============================] - 1s 74ms/step - loss: 0.0050 - val_loss: 0.0224\n",
      "Epoch 10/100\n",
      "18/18 [==============================] - 1s 75ms/step - loss: 0.0047 - val_loss: 0.0219\n",
      "Epoch 11/100\n",
      "18/18 [==============================] - 1s 75ms/step - loss: 0.0048 - val_loss: 0.0202\n",
      "Epoch 12/100\n",
      "18/18 [==============================] - 1s 74ms/step - loss: 0.0038 - val_loss: 0.0209\n",
      "Epoch 13/100\n",
      "18/18 [==============================] - 1s 77ms/step - loss: 0.0040 - val_loss: 0.0193\n",
      "Epoch 14/100\n",
      "18/18 [==============================] - 2s 84ms/step - loss: 0.0044 - val_loss: 0.0200\n",
      "Epoch 15/100\n",
      "18/18 [==============================] - 1s 74ms/step - loss: 0.0041 - val_loss: 0.0198\n",
      "Epoch 16/100\n",
      "18/18 [==============================] - 1s 78ms/step - loss: 0.0035 - val_loss: 0.0182\n",
      "Epoch 17/100\n",
      "18/18 [==============================] - 1s 73ms/step - loss: 0.0049 - val_loss: 0.0186\n",
      "Epoch 18/100\n",
      "18/18 [==============================] - 1s 74ms/step - loss: 0.0035 - val_loss: 0.0161\n",
      "Epoch 19/100\n",
      "18/18 [==============================] - 1s 75ms/step - loss: 0.0033 - val_loss: 0.0160\n",
      "Epoch 20/100\n",
      "18/18 [==============================] - 1s 74ms/step - loss: 0.0034 - val_loss: 0.0159\n",
      "Epoch 21/100\n",
      "18/18 [==============================] - 1s 73ms/step - loss: 0.0031 - val_loss: 0.0167\n",
      "Epoch 22/100\n",
      "18/18 [==============================] - 1s 75ms/step - loss: 0.0035 - val_loss: 0.0148\n",
      "Epoch 23/100\n",
      "18/18 [==============================] - 1s 74ms/step - loss: 0.0030 - val_loss: 0.0146\n",
      "Epoch 24/100\n",
      "18/18 [==============================] - 1s 75ms/step - loss: 0.0032 - val_loss: 0.0147\n",
      "Epoch 25/100\n",
      "18/18 [==============================] - 1s 75ms/step - loss: 0.0032 - val_loss: 0.0138\n",
      "Epoch 26/100\n",
      "18/18 [==============================] - 1s 73ms/step - loss: 0.0030 - val_loss: 0.0136\n",
      "Epoch 27/100\n",
      "18/18 [==============================] - 1s 74ms/step - loss: 0.0033 - val_loss: 0.0131\n",
      "Epoch 28/100\n",
      "18/18 [==============================] - 1s 76ms/step - loss: 0.0031 - val_loss: 0.0142\n",
      "Epoch 29/100\n",
      "18/18 [==============================] - 1s 73ms/step - loss: 0.0026 - val_loss: 0.0132\n",
      "Epoch 30/100\n",
      "18/18 [==============================] - 2s 88ms/step - loss: 0.0026 - val_loss: 0.0128\n",
      "Epoch 31/100\n",
      "18/18 [==============================] - 1s 83ms/step - loss: 0.0025 - val_loss: 0.0129\n",
      "Epoch 32/100\n",
      "18/18 [==============================] - 1s 77ms/step - loss: 0.0023 - val_loss: 0.0128\n",
      "Epoch 33/100\n",
      "18/18 [==============================] - 1s 74ms/step - loss: 0.0024 - val_loss: 0.0121\n",
      "Epoch 34/100\n",
      "18/18 [==============================] - 2s 97ms/step - loss: 0.0025 - val_loss: 0.0127\n",
      "Epoch 35/100\n",
      "18/18 [==============================] - 1s 76ms/step - loss: 0.0025 - val_loss: 0.0120\n",
      "Epoch 36/100\n",
      "18/18 [==============================] - 1s 75ms/step - loss: 0.0029 - val_loss: 0.0121\n",
      "Epoch 37/100\n",
      "18/18 [==============================] - 1s 73ms/step - loss: 0.0030 - val_loss: 0.0118\n",
      "Epoch 38/100\n",
      "18/18 [==============================] - 1s 77ms/step - loss: 0.0027 - val_loss: 0.0118\n",
      "Epoch 39/100\n",
      "18/18 [==============================] - 1s 74ms/step - loss: 0.0022 - val_loss: 0.0120\n",
      "Epoch 40/100\n",
      "18/18 [==============================] - 1s 73ms/step - loss: 0.0020 - val_loss: 0.0116\n",
      "Epoch 41/100\n",
      "18/18 [==============================] - 1s 76ms/step - loss: 0.0020 - val_loss: 0.0109\n",
      "Epoch 42/100\n",
      "18/18 [==============================] - 1s 74ms/step - loss: 0.0026 - val_loss: 0.0112\n",
      "Epoch 43/100\n",
      "18/18 [==============================] - 1s 73ms/step - loss: 0.0028 - val_loss: 0.0117\n",
      "Epoch 44/100\n",
      "18/18 [==============================] - 1s 75ms/step - loss: 0.0024 - val_loss: 0.0121\n",
      "Epoch 45/100\n",
      "18/18 [==============================] - 1s 81ms/step - loss: 0.0022 - val_loss: 0.0118\n",
      "Epoch 46/100\n",
      "18/18 [==============================] - 1s 75ms/step - loss: 0.0020 - val_loss: 0.0106\n",
      "Epoch 47/100\n",
      "18/18 [==============================] - 1s 76ms/step - loss: 0.0019 - val_loss: 0.0105\n",
      "Epoch 48/100\n",
      "18/18 [==============================] - 2s 94ms/step - loss: 0.0020 - val_loss: 0.0116\n",
      "Epoch 49/100\n",
      "18/18 [==============================] - 1s 74ms/step - loss: 0.0023 - val_loss: 0.0112\n",
      "Epoch 50/100\n",
      "18/18 [==============================] - 1s 73ms/step - loss: 0.0019 - val_loss: 0.0105\n",
      "Epoch 51/100\n",
      "18/18 [==============================] - 1s 76ms/step - loss: 0.0018 - val_loss: 0.0105\n",
      "Epoch 52/100\n",
      "18/18 [==============================] - 1s 75ms/step - loss: 0.0018 - val_loss: 0.0104\n",
      "Epoch 53/100\n",
      "18/18 [==============================] - 1s 73ms/step - loss: 0.0018 - val_loss: 0.0105\n",
      "Epoch 54/100\n",
      "18/18 [==============================] - 1s 74ms/step - loss: 0.0019 - val_loss: 0.0102\n",
      "Epoch 55/100\n",
      "18/18 [==============================] - 1s 74ms/step - loss: 0.0022 - val_loss: 0.0101\n",
      "Epoch 56/100\n",
      "18/18 [==============================] - 1s 83ms/step - loss: 0.0024 - val_loss: 0.0104\n",
      "Epoch 57/100\n",
      "18/18 [==============================] - 1s 82ms/step - loss: 0.0018 - val_loss: 0.0101\n",
      "Epoch 58/100\n",
      "18/18 [==============================] - 1s 75ms/step - loss: 0.0016 - val_loss: 0.0099\n",
      "Epoch 59/100\n",
      "18/18 [==============================] - 1s 74ms/step - loss: 0.0019 - val_loss: 0.0095\n",
      "Epoch 60/100\n",
      "18/18 [==============================] - 1s 74ms/step - loss: 0.0019 - val_loss: 0.0100\n",
      "Epoch 61/100\n",
      "18/18 [==============================] - 1s 76ms/step - loss: 0.0017 - val_loss: 0.0097\n",
      "Epoch 62/100\n",
      "18/18 [==============================] - 1s 74ms/step - loss: 0.0023 - val_loss: 0.0096\n",
      "Epoch 63/100\n",
      "18/18 [==============================] - 1s 76ms/step - loss: 0.0017 - val_loss: 0.0098\n",
      "Epoch 64/100\n",
      "18/18 [==============================] - 1s 76ms/step - loss: 0.0016 - val_loss: 0.0100\n",
      "Epoch 65/100\n",
      "18/18 [==============================] - 1s 74ms/step - loss: 0.0017 - val_loss: 0.0095\n",
      "Epoch 66/100\n",
      "18/18 [==============================] - 1s 73ms/step - loss: 0.0015 - val_loss: 0.0096\n",
      "Epoch 67/100\n",
      "18/18 [==============================] - 2s 87ms/step - loss: 0.0015 - val_loss: 0.0095\n",
      "Epoch 68/100\n",
      "18/18 [==============================] - 2s 101ms/step - loss: 0.0015 - val_loss: 0.0094\n",
      "Epoch 69/100\n",
      "18/18 [==============================] - 1s 73ms/step - loss: 0.0016 - val_loss: 0.0091\n",
      "Epoch 70/100\n",
      "18/18 [==============================] - 1s 76ms/step - loss: 0.0015 - val_loss: 0.0090\n",
      "Epoch 71/100\n",
      "18/18 [==============================] - 1s 76ms/step - loss: 0.0015 - val_loss: 0.0087\n",
      "Epoch 72/100\n",
      "18/18 [==============================] - 1s 73ms/step - loss: 0.0015 - val_loss: 0.0087\n",
      "Epoch 73/100\n",
      "18/18 [==============================] - 1s 73ms/step - loss: 0.0015 - val_loss: 0.0087\n",
      "Epoch 74/100\n",
      "18/18 [==============================] - 1s 75ms/step - loss: 0.0015 - val_loss: 0.0092\n",
      "Epoch 75/100\n",
      "18/18 [==============================] - 1s 73ms/step - loss: 0.0016 - val_loss: 0.0093\n",
      "Epoch 76/100\n",
      "18/18 [==============================] - 1s 76ms/step - loss: 0.0015 - val_loss: 0.0088\n",
      "Epoch 77/100\n",
      "18/18 [==============================] - 1s 75ms/step - loss: 0.0013 - val_loss: 0.0086\n",
      "Epoch 78/100\n",
      "18/18 [==============================] - 1s 74ms/step - loss: 0.0014 - val_loss: 0.0086\n",
      "Epoch 79/100\n",
      "18/18 [==============================] - 1s 73ms/step - loss: 0.0014 - val_loss: 0.0088\n",
      "Epoch 80/100\n",
      "18/18 [==============================] - 1s 75ms/step - loss: 0.0018 - val_loss: 0.0090\n",
      "Epoch 81/100\n",
      "18/18 [==============================] - 1s 73ms/step - loss: 0.0012 - val_loss: 0.0084\n",
      "Epoch 82/100\n",
      "18/18 [==============================] - 1s 72ms/step - loss: 0.0015 - val_loss: 0.0085\n",
      "Epoch 83/100\n",
      "18/18 [==============================] - 1s 74ms/step - loss: 0.0013 - val_loss: 0.0082\n",
      "Epoch 84/100\n",
      "18/18 [==============================] - 1s 73ms/step - loss: 0.0014 - val_loss: 0.0082\n",
      "Epoch 85/100\n",
      "18/18 [==============================] - 1s 73ms/step - loss: 0.0012 - val_loss: 0.0080\n",
      "Epoch 86/100\n",
      "18/18 [==============================] - 1s 78ms/step - loss: 0.0014 - val_loss: 0.0079\n",
      "Epoch 87/100\n",
      "18/18 [==============================] - 1s 77ms/step - loss: 0.0012 - val_loss: 0.0078\n",
      "Epoch 88/100\n",
      "18/18 [==============================] - 1s 72ms/step - loss: 0.0011 - val_loss: 0.0076\n",
      "Epoch 89/100\n",
      "18/18 [==============================] - 1s 75ms/step - loss: 0.0011 - val_loss: 0.0077\n",
      "Epoch 90/100\n",
      "18/18 [==============================] - 1s 72ms/step - loss: 0.0013 - val_loss: 0.0074\n",
      "Epoch 91/100\n",
      "18/18 [==============================] - 1s 72ms/step - loss: 0.0014 - val_loss: 0.0075\n",
      "Epoch 92/100\n",
      "18/18 [==============================] - 1s 74ms/step - loss: 0.0011 - val_loss: 0.0073\n",
      "Epoch 93/100\n",
      "18/18 [==============================] - 1s 72ms/step - loss: 0.0011 - val_loss: 0.0075\n",
      "Epoch 94/100\n",
      "18/18 [==============================] - 1s 74ms/step - loss: 0.0011 - val_loss: 0.0071\n",
      "Epoch 95/100\n",
      "18/18 [==============================] - 1s 75ms/step - loss: 0.0011 - val_loss: 0.0071\n",
      "Epoch 96/100\n",
      "18/18 [==============================] - 1s 73ms/step - loss: 0.0013 - val_loss: 0.0073\n",
      "Epoch 97/100\n",
      "18/18 [==============================] - 1s 74ms/step - loss: 0.0013 - val_loss: 0.0075\n",
      "Epoch 98/100\n",
      "18/18 [==============================] - 1s 74ms/step - loss: 0.0012 - val_loss: 0.0070\n",
      "Epoch 99/100\n",
      "18/18 [==============================] - 1s 72ms/step - loss: 9.6149e-04 - val_loss: 0.0069\n",
      "Epoch 100/100\n",
      "18/18 [==============================] - 1s 73ms/step - loss: 0.0010 - val_loss: 0.0068\n"
     ]
    },
    {
     "data": {
      "text/plain": [
       "<keras.callbacks.History at 0x123f006bf10>"
      ]
     },
     "execution_count": 19,
     "metadata": {},
     "output_type": "execute_result"
    }
   ],
   "source": [
    "#Training model with adam optimizer and mean squared error loss function\n",
    "model.compile(loss='mean_squared_error',optimizer='adam')\n",
    "model.fit(X_train,y_train,validation_data=(X_test,y_test),epochs=100,batch_size=20)"
   ]
  },
  {
   "cell_type": "code",
   "execution_count": 20,
   "id": "2dadced6",
   "metadata": {},
   "outputs": [
    {
     "data": {
      "text/plain": [
       "[<matplotlib.lines.Line2D at 0x123f97e1100>]"
      ]
     },
     "execution_count": 20,
     "metadata": {},
     "output_type": "execute_result"
    },
    {
     "data": {
      "image/png": "[encoded data removed]",
      "text/plain": [
       "<Figure size 432x288 with 1 Axes>"
      ]
     },
     "metadata": {
      "needs_background": "light"
     },
     "output_type": "display_data"
    }
   ],
   "source": [
    "#PLotting loss, it shows that loss has decreased significantly and model trained well\n",
    "loss = model.history.history['loss']\n",
    "plt.plot(loss)"
   ]
  },
  {
   "cell_type": "code",
   "execution_count": 21,
   "id": "cf2c175d",
   "metadata": {},
   "outputs": [
    {
     "name": "stdout",
     "output_type": "stream",
     "text": [
      "11/11 [==============================] - 3s 29ms/step\n",
      "2/2 [==============================] - 0s 26ms/step\n"
     ]
    }
   ],
   "source": [
    "#Predicitng on train and test data\n",
    "train_predict = model.predict(X_train)\n",
    "test_predict = model.predict(X_test)"
   ]
  },
  {
   "cell_type": "code",
   "execution_count": 22,
   "id": "1a6a00ff",
   "metadata": {},
   "outputs": [],
   "source": [
    "#Inverse transform to get actual value\n",
    "train_predict = normalizer.inverse_transform(train_predict)\n",
    "test_predict = normalizer.inverse_transform(test_predict)"
   ]
  },
  {
   "cell_type": "code",
   "execution_count": 23,
   "id": "4a6f2718",
   "metadata": {},
   "outputs": [
    {
     "data": {
      "text/plain": [
       "[<matplotlib.lines.Line2D at 0x123facfe0d0>]"
      ]
     },
     "execution_count": 23,
     "metadata": {},
     "output_type": "execute_result"
    },
    {
     "data": {
      "image/png": "[encoded data removed]",
      "text/plain": [
       "<Figure size 432x288 with 1 Axes>"
      ]
     },
     "metadata": {
      "needs_background": "light"
     },
     "output_type": "display_data"
    }
   ],
   "source": [
    "#Comparing using visuals\n",
    "plt.plot(normalizer.inverse_transform(ds_scaled))\n",
    "plt.plot(train_predict)\n",
    "plt.plot(test_predict)"
   ]
  },
  {
   "cell_type": "code",
   "execution_count": 24,
   "id": "dd49074e",
   "metadata": {},
   "outputs": [
    {
     "data": {
      "text/plain": [
       "numpy.ndarray"
      ]
     },
     "execution_count": 24,
     "metadata": {},
     "output_type": "execute_result"
    }
   ],
   "source": [
    "type(train_predict)"
   ]
  },
  {
   "cell_type": "code",
   "execution_count": 25,
   "id": "10d35fce",
   "metadata": {},
   "outputs": [],
   "source": [
    "test = np.vstack((train_predict,test_predict))"
   ]
  },
  {
   "cell_type": "code",
   "execution_count": 26,
   "id": "d0813620",
   "metadata": {},
   "outputs": [
    {
     "data": {
      "text/plain": [
       "[<matplotlib.lines.Line2D at 0x123f9cf54f0>]"
      ]
     },
     "execution_count": 26,
     "metadata": {},
     "output_type": "execute_result"
    },
    {
     "data": {
      "image/png": "[encoded data removed]",
      "text/plain": [
       "<Figure size 432x288 with 1 Axes>"
      ]
     },
     "metadata": {
      "needs_background": "light"
     },
     "output_type": "display_data"
    }
   ],
   "source": [
    "#Combining the predited data to create uniform data visualization\n",
    "plt.plot(normalizer.inverse_transform(ds_scaled))\n",
    "plt.plot(test)"
   ]
  },
  {
   "cell_type": "code",
   "execution_count": 27,
   "id": "82ea371c",
   "metadata": {},
   "outputs": [
    {
     "data": {
      "text/plain": [
       "101"
      ]
     },
     "execution_count": 27,
     "metadata": {},
     "output_type": "execute_result"
    }
   ],
   "source": [
    "len(ds_test)"
   ]
  },
  {
   "cell_type": "code",
   "execution_count": 28,
   "id": "8ad4e1ed",
   "metadata": {},
   "outputs": [],
   "source": [
    "#Getting the last 50 days records\n",
    "fut_inp = ds_test[len(ds_test)-prevdays:]"
   ]
  },
  {
   "cell_type": "code",
   "execution_count": 29,
   "id": "e0e2b6ca",
   "metadata": {},
   "outputs": [
    {
     "data": {
      "text/plain": [
       "(1, 50)"
      ]
     },
     "execution_count": 29,
     "metadata": {},
     "output_type": "execute_result"
    }
   ],
   "source": [
    "fut_inp = fut_inp.reshape(1,-1)\n",
    "tmp_inp = list(fut_inp)\n",
    "fut_inp.shape"
   ]
  },
  {
   "cell_type": "code",
   "execution_count": 30,
   "id": "8d5a13f8",
   "metadata": {},
   "outputs": [],
   "source": [
    "#Creating list of the last 50 data\n",
    "tmp_inp = tmp_inp[0].tolist()"
   ]
  },
  {
   "cell_type": "code",
   "execution_count": 31,
   "id": "57cdac81",
   "metadata": {},
   "outputs": [
    {
     "name": "stdout",
     "output_type": "stream",
     "text": [
      "[[0.1943061798810959], [0.19652827084064484], [0.2003987729549408], [0.20492297410964966], [0.2095644772052765], [0.21410320699214935], [0.2184516191482544], [0.22260013222694397]]\n"
     ]
    }
   ],
   "source": [
    "#Predicting next 8 days price using the current data\n",
    "#It will predict in sliding window manner (algorithm) with stride 1\n",
    "lst_output=[]\n",
    "n_steps=prevdays\n",
    "i=0\n",
    "while(i<8):\n",
    "    \n",
    "    if(len(tmp_inp)>prevdays):\n",
    "        fut_inp = np.array(tmp_inp[1:])\n",
    "        fut_inp=fut_inp.reshape(1,-1)\n",
    "        fut_inp = fut_inp.reshape((1, n_steps, 1))\n",
    "        yhat = model.predict(fut_inp, verbose=0)\n",
    "        tmp_inp.extend(yhat[0].tolist())\n",
    "        tmp_inp = tmp_inp[1:]\n",
    "        lst_output.extend(yhat.tolist())\n",
    "        i=i+1\n",
    "    else:\n",
    "        fut_inp = fut_inp.reshape((1, n_steps,1))\n",
    "        yhat = model.predict(fut_inp, verbose=0)\n",
    "        tmp_inp.extend(yhat[0].tolist())\n",
    "        lst_output.extend(yhat.tolist())\n",
    "        i=i+1\n",
    "    \n",
    "\n",
    "print(lst_output)"
   ]
  },
  {
   "cell_type": "code",
   "execution_count": 32,
   "id": "10433b36",
   "metadata": {},
   "outputs": [
    {
     "data": {
      "text/plain": [
       "503"
      ]
     },
     "execution_count": 32,
     "metadata": {},
     "output_type": "execute_result"
    }
   ],
   "source": [
    "len(ds_scaled)"
   ]
  },
  {
   "cell_type": "code",
   "execution_count": 33,
   "id": "7b5657b3",
   "metadata": {},
   "outputs": [],
   "source": [
    "#Creating a dummy plane to plot graph one after another\n",
    "plot_new=np.arange(1,prevdays+1)\n",
    "plot_pred=np.arange(prevdays+1,prevdays+8+1)"
   ]
  },
  {
   "cell_type": "code",
   "execution_count": 34,
   "id": "76724ae7",
   "metadata": {},
   "outputs": [
    {
     "data": {
      "text/plain": [
       "[<matplotlib.lines.Line2D at 0x123fae06820>]"
      ]
     },
     "execution_count": 34,
     "metadata": {},
     "output_type": "execute_result"
    },
    {
     "data": {
      "image/png": "[encoded data removed]",
      "text/plain": [
       "<Figure size 432x288 with 1 Axes>"
      ]
     },
     "metadata": {
      "needs_background": "light"
     },
     "output_type": "display_data"
    }
   ],
   "source": [
    "plt.plot(plot_new, normalizer.inverse_transform(ds_scaled[len(ds_scaled)-prevdays:]))\n",
    "plt.plot(plot_pred, normalizer.inverse_transform(lst_output))"
   ]
  },
  {
   "cell_type": "code",
   "execution_count": 35,
   "id": "72633c72",
   "metadata": {},
   "outputs": [],
   "source": [
    "ds_new = ds_scaled.tolist()"
   ]
  },
  {
   "cell_type": "code",
   "execution_count": 36,
   "id": "41b560b2",
   "metadata": {},
   "outputs": [
    {
     "data": {
      "text/plain": [
       "503"
      ]
     },
     "execution_count": 36,
     "metadata": {},
     "output_type": "execute_result"
    }
   ],
   "source": [
    "len(ds_new)"
   ]
  },
  {
   "cell_type": "code",
   "execution_count": 37,
   "id": "eb8df7dd",
   "metadata": {},
   "outputs": [
    {
     "data": {
      "text/plain": [
       "[<matplotlib.lines.Line2D at 0x123f981a3d0>]"
      ]
     },
     "execution_count": 37,
     "metadata": {},
     "output_type": "execute_result"
    },
    {
     "data": {
      "image/png": "[encoded data removed]",
      "text/plain": [
       "<Figure size 432x288 with 1 Axes>"
      ]
     },
     "metadata": {
      "needs_background": "light"
     },
     "output_type": "display_data"
    }
   ],
   "source": [
    "#Entends helps us to fill the missing value with approx value\n",
    "ds_new.extend(lst_output)\n",
    "plt.plot(ds_new[485:])"
   ]
  },
  {
   "cell_type": "code",
   "execution_count": 38,
   "id": "ac34d25b",
   "metadata": {},
   "outputs": [],
   "source": [
    "#Creating final data for plotting\n",
    "final_graph = normalizer.inverse_transform(ds_new).tolist()"
   ]
  },
  {
   "cell_type": "code",
   "execution_count": 39,
   "id": "e2bad6aa",
   "metadata": {},
   "outputs": [
    {
     "data": {
      "text/plain": [
       "<matplotlib.legend.Legend at 0x123f0071040>"
      ]
     },
     "execution_count": 39,
     "metadata": {},
     "output_type": "execute_result"
    },
    {
     "data": {
      "image/png": "[encoded data removed]",
      "text/plain": [
       "<Figure size 432x288 with 1 Axes>"
      ]
     },
     "metadata": {
      "needs_background": "light"
     },
     "output_type": "display_data"
    }
   ],
   "source": [
    "#Plotting final results with predicted value after 8 Days\n",
    "plt.plot(final_graph,)\n",
    "plt.ylabel(\"Price\")\n",
    "plt.xlabel(\"Time\")\n",
    "plt.title(\"{0} prediction of next month open\")\n",
    "plt.axhline(y=final_graph[len(final_graph)-1], color = 'red', linestyle = ':', label = 'NEXT 30D: {0}'.format(round(float(*final_graph[len(final_graph)-1]),2)))\n",
    "plt.legend()"
   ]
  },
  {
   "cell_type": "code",
   "execution_count": 40,
   "id": "331b4bee",
   "metadata": {
    "scrolled": true
   },
   "outputs": [],
   "source": [
    "next_data = normalizer.inverse_transform(lst_output)"
   ]
  },
  {
   "cell_type": "code",
   "execution_count": 41,
   "id": "7123faf3",
   "metadata": {
    "scrolled": true
   },
   "outputs": [
    {
     "data": {
      "text/plain": [
       "array([[12.16042555],\n",
       "       [12.17713845],\n",
       "       [12.20624947],\n",
       "       [12.24027712],\n",
       "       [12.27518703],\n",
       "       [12.30932396],\n",
       "       [12.34202946],\n",
       "       [12.37323147]])"
      ]
     },
     "execution_count": 41,
     "metadata": {},
     "output_type": "execute_result"
    }
   ],
   "source": [
    "next_data"
   ]
  },
  {
   "cell_type": "code",
   "execution_count": 42,
   "id": "ff199ee3",
   "metadata": {},
   "outputs": [],
   "source": [
    "new_data = next_data.tolist()"
   ]
  },
  {
   "cell_type": "code",
   "execution_count": 43,
   "id": "72ffcfdb",
   "metadata": {},
   "outputs": [
    {
     "data": {
      "text/plain": [
       "[datetime.datetime(2022, 10, 12, 0, 0),\n",
       " datetime.datetime(2022, 10, 13, 0, 0),\n",
       " datetime.datetime(2022, 10, 14, 0, 0),\n",
       " datetime.datetime(2022, 10, 15, 0, 0),\n",
       " datetime.datetime(2022, 10, 16, 0, 0),\n",
       " datetime.datetime(2022, 10, 17, 0, 0),\n",
       " datetime.datetime(2022, 10, 18, 0, 0),\n",
       " datetime.datetime(2022, 10, 19, 0, 0)]"
      ]
     },
     "execution_count": 43,
     "metadata": {},
     "output_type": "execute_result"
    }
   ],
   "source": [
    "from datetime import datetime, timedelta\n",
    "next_7_days = [\n",
    "    datetime(2022, 10, 12),\n",
    "    datetime(2022, 10, 13),\n",
    "    datetime(2022, 10, 14),\n",
    "    datetime(2022, 10, 15),\n",
    "    datetime(2022, 10, 16),\n",
    "    datetime(2022, 10, 17),\n",
    "    datetime(2022, 10, 18),\n",
    "    datetime(2022, 10, 19),\n",
    "]\n",
    "next_7_days"
   ]
  },
  {
   "cell_type": "code",
   "execution_count": 44,
   "id": "1adb5fe1",
   "metadata": {
    "scrolled": true
   },
   "outputs": [
    {
     "data": {
      "text/plain": [
       "[[12.160425549736873],\n",
       " [12.177138453588471],\n",
       " [12.206249471486121],\n",
       " [12.240277123945177],\n",
       " [12.275187033744663],\n",
       " [12.309323959692911],\n",
       " [12.342029458970428],\n",
       " [12.373231467112035]]"
      ]
     },
     "execution_count": 44,
     "metadata": {},
     "output_type": "execute_result"
    }
   ],
   "source": [
    "new_data"
   ]
  },
  {
   "cell_type": "code",
   "execution_count": 45,
   "id": "3d8f84a0",
   "metadata": {},
   "outputs": [],
   "source": [
    "pd.DataFrame(next_7_days, columns = ['Date']).to_csv('Gabotero_AC_forecast.csv')"
   ]
  },
  {
   "cell_type": "code",
   "execution_count": 46,
   "id": "92654569",
   "metadata": {},
   "outputs": [],
   "source": [
    "data4 = pd.read_csv('Gabotero_AC_forecast.csv')\n",
    "data4[\"Adj Close Value in the next 8 days\"] = new_data\n",
    "data4 = data4.drop(['Unnamed: 0'], axis=1)\n",
    "data4.to_csv('Gabotero_AC_forecast.csv')"
   ]
  }
 ],
 "metadata": {
  "kernelspec": {
   "display_name": "Python 3 (ipykernel)",
   "language": "python",
   "name": "python3"
  },
  "language_info": {
   "codemirror_mode": {
    "name": "ipython",
    "version": 3
   },
   "file_extension": ".py",
   "mimetype": "text/x-python",
   "name": "python",
   "nbconvert_exporter": "python",
   "pygments_lexer": "ipython3",
   "version": "3.9.12"
  }
 },
 "nbformat": 4,
 "nbformat_minor": 5
}
